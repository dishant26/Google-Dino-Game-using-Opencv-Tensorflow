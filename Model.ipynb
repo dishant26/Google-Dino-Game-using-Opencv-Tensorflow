{
  "nbformat": 4,
  "nbformat_minor": 0,
  "metadata": {
    "colab": {
      "name": "Model.ipynb",
      "provenance": [],
      "collapsed_sections": [],
      "authorship_tag": "ABX9TyMkjoBbd6oWZcIrtREOcKdp",
      "include_colab_link": true
    },
    "kernelspec": {
      "name": "python3",
      "display_name": "Python 3"
    },
    "accelerator": "GPU"
  },
  "cells": [
    {
      "cell_type": "markdown",
      "metadata": {
        "id": "view-in-github",
        "colab_type": "text"
      },
      "source": [
        "<a href=\"https://colab.research.google.com/github/dishant26/Google-Dino-Game-using-Opencv-Tensorflow/blob/main/Model.ipynb\" target=\"_parent\"><img src=\"https://colab.research.google.com/assets/colab-badge.svg\" alt=\"Open In Colab\"/></a>"
      ]
    },
    {
      "cell_type": "code",
      "metadata": {
        "id": "0pEGEfOd29rS"
      },
      "source": [
        "import os\n",
        "import tensorflow as tf\n",
        "import numpy as np\n",
        "import matplotlib.pyplot as plt\n",
        "import matplotlib.image  as mpimg\n",
        "import pandas as pd\n",
        "import zipfile\n",
        "import random\n",
        "import shutil\n",
        "from tensorflow.keras.optimizers import Adam, RMSprop\n",
        "from tensorflow.keras.preprocessing.image import ImageDataGenerator\n",
        "from tensorflow import keras\n",
        "from shutil import copyfile\n",
        "from os import getcwd\n",
        "from zipfile import ZipFile"
      ],
      "execution_count": 1,
      "outputs": []
    },
    {
      "cell_type": "code",
      "metadata": {
        "id": "0UR3mfuLBFYf"
      },
      "source": [
        "!pip install -U -q PyDrive\n",
        "from pydrive.auth import GoogleAuth\n",
        "from pydrive.drive import GoogleDrive\n",
        "from google.colab import auth\n",
        "from oauth2client.client import GoogleCredentials\n",
        "# Authenticate and create the PyDrive client.\n",
        "auth.authenticate_user()\n",
        "gauth = GoogleAuth()\n",
        "gauth.credentials = GoogleCredentials.get_application_default()\n",
        "drive = GoogleDrive(gauth)"
      ],
      "execution_count": 2,
      "outputs": []
    },
    {
      "cell_type": "code",
      "metadata": {
        "id": "10c18C69BH6m",
        "outputId": "0c9db228-d7e7-465d-b543-c4050a425215",
        "colab": {
          "base_uri": "https://localhost:8080/",
          "height": 35
        }
      },
      "source": [
        "# The shareable link\n",
        "id = '1SIVcfWQjaSKpmmYiv1_hKcY83cDlrPDI'\n",
        "print (id) # Verify that you have everything after '='"
      ],
      "execution_count": 3,
      "outputs": [
        {
          "output_type": "stream",
          "text": [
            "1SIVcfWQjaSKpmmYiv1_hKcY83cDlrPDI\n"
          ],
          "name": "stdout"
        }
      ]
    },
    {
      "cell_type": "code",
      "metadata": {
        "id": "U1Ao5WSiBRzA"
      },
      "source": [
        "downloaded = drive.CreateFile({'id':id}) \n",
        "downloaded.GetContentFile('Dataset.zip')"
      ],
      "execution_count": 4,
      "outputs": []
    },
    {
      "cell_type": "code",
      "metadata": {
        "id": "jtK7MfNH23z0",
        "outputId": "b6dc7638-215c-46e7-eb24-2b24fc6b5ae9",
        "colab": {
          "base_uri": "https://localhost:8080/",
          "height": 35
        }
      },
      "source": [
        "file_name = \"Dataset.zip\"\n",
        "\n",
        "with ZipFile(file_name, 'r') as zip:\n",
        "  zip.extractall()\n",
        "  print(\"Done\")"
      ],
      "execution_count": 5,
      "outputs": [
        {
          "output_type": "stream",
          "text": [
            "Done\n"
          ],
          "name": "stdout"
        }
      ]
    },
    {
      "cell_type": "code",
      "metadata": {
        "id": "Spj85rBL2_QT",
        "outputId": "3ec8050e-a3f0-4cbf-8ee3-75c24762db2c",
        "colab": {
          "base_uri": "https://localhost:8080/",
          "height": 35
        }
      },
      "source": [
        "!pwd"
      ],
      "execution_count": 6,
      "outputs": [
        {
          "output_type": "stream",
          "text": [
            "/content\n"
          ],
          "name": "stdout"
        }
      ]
    },
    {
      "cell_type": "code",
      "metadata": {
        "id": "v9dH9MIh3BXg"
      },
      "source": [
        "try:\n",
        "    os.mkdir('/content/fist-v-palm')\n",
        "    os.mkdir('/content/fist-v-palm/training')\n",
        "    os.mkdir('/content/fist-v-palm/testing')\n",
        "    os.mkdir('/content/fist-v-palm/validation')\n",
        "    os.mkdir('/content/fist-v-palm/training/fist')\n",
        "    os.mkdir('/content/fist-v-palm/training/palm')\n",
        "    os.mkdir('/content/fist-v-palm/testing/fist')\n",
        "    os.mkdir('/content/fist-v-palm/testing/palm')\n",
        "    os.mkdir('/content/fist-v-palm/validation/fist')\n",
        "    os.mkdir('/content/fist-v-palm/validation/palm')\n",
        "except OSError:\n",
        "    pass"
      ],
      "execution_count": 7,
      "outputs": []
    },
    {
      "cell_type": "code",
      "metadata": {
        "id": "nYaC1dSe3C-5"
      },
      "source": [
        "FistTrain_SOURCE = '/content/Dataset/FistImages/'\n",
        "PalmTrain_SOURCE = '/content/Dataset/PalmImages/'\n",
        "FistTest_SOURCE = '/content/Dataset/FistTest/'\n",
        "PalmTest_SOURCE = '/content/Dataset/PalmTest/'"
      ],
      "execution_count": 8,
      "outputs": []
    },
    {
      "cell_type": "code",
      "metadata": {
        "id": "2J2hFt-d3E8Z",
        "outputId": "3ae2091d-e3ef-4c85-93ea-2b2ba61a12dc",
        "colab": {
          "base_uri": "https://localhost:8080/",
          "height": 88
        }
      },
      "source": [
        "print(len(os.listdir(FistTrain_SOURCE)))\n",
        "print(len(os.listdir(PalmTrain_SOURCE)))\n",
        "print(len(os.listdir(FistTest_SOURCE)))\n",
        "print(len(os.listdir(PalmTest_SOURCE)))"
      ],
      "execution_count": 9,
      "outputs": [
        {
          "output_type": "stream",
          "text": [
            "1000\n",
            "1000\n",
            "100\n",
            "100\n"
          ],
          "name": "stdout"
        }
      ]
    },
    {
      "cell_type": "code",
      "metadata": {
        "id": "GYoleyvh3IZs"
      },
      "source": [
        "TRAINING_FIST_DIR = '/content/fist-v-palm/training/fist/'\n",
        "TRAINING_PALM_DIR = '/content/fist-v-palm/training/palm/'\n",
        "TESTING_FIST_DIR = '/content/fist-v-palm/testing/fist/'\n",
        "TESTING_PALM_DIR = '/content/fist-v-palm/testing/palm/'\n",
        "VALIDATION_FIST_DIR = '/content/fist-v-palm/validation/fist/'\n",
        "VALIDATION_PALM_DIR = '/content/fist-v-palm/validation/palm/'\n",
        "\n",
        "TRAINING_DIR = '/content/fist-v-palm/training/'\n",
        "TESTING_DIR = '/content/fist-v-palm/testing/'\n",
        "VALIDATION_DIR = '/content/fist-v-palm/validation/'"
      ],
      "execution_count": 10,
      "outputs": []
    },
    {
      "cell_type": "code",
      "metadata": {
        "id": "1AGrjcol3I9G"
      },
      "source": [
        "def create_train_val(SOURCE, TRAINING, VALIDATION):\n",
        "    \n",
        "  files = []\n",
        "  for filename in os.listdir(SOURCE):\n",
        "      file = SOURCE + filename\n",
        "      if os.path.getsize(file) > 0:\n",
        "          files.append(filename)\n",
        "      else:\n",
        "          print(filename + \" is zero length, so ignoring.\")\n",
        "  \n",
        "  training_length = int(len(files) * 0.9)\n",
        "  validation_length = int(len(files) - training_length)\n",
        "  shuffled_set = random.sample(files, len(files))\n",
        "  training_set = shuffled_set[0: training_length]\n",
        "  validation_set = shuffled_set[-validation_length:]\n",
        "\n",
        "\n",
        "  for filename in training_set:\n",
        "      source = SOURCE + filename\n",
        "      destination = TRAINING + filename\n",
        "      copyfile(source, destination)\n",
        "\n",
        "  for filename in validation_set:\n",
        "      source = SOURCE + filename\n",
        "      destination = VALIDATION + filename\n",
        "      copyfile(source, destination)\n",
        "\n",
        "create_train_val(FistTrain_SOURCE, TRAINING_FIST_DIR, VALIDATION_FIST_DIR)\n",
        "create_train_val(PalmTrain_SOURCE, TRAINING_PALM_DIR, VALIDATION_PALM_DIR)"
      ],
      "execution_count": 11,
      "outputs": []
    },
    {
      "cell_type": "code",
      "metadata": {
        "id": "RHdLJHzS3K8m"
      },
      "source": [
        "def create_test(SOURCE, TESTING):\n",
        "    \n",
        "  testing_set = []\n",
        "  for filename in os.listdir(SOURCE):\n",
        "      file = SOURCE + filename\n",
        "      if os.path.getsize(file) > 0:\n",
        "          testing_set.append(filename)\n",
        "      else:\n",
        "          print(filename + \" is zero length, so ignoring.\")\n",
        "  \n",
        "  testing_length = int(len(testing_set))\n",
        "  \n",
        "  for filename in testing_set:\n",
        "      source = SOURCE + filename\n",
        "      destination = TESTING + filename\n",
        "      copyfile(source, destination)\n",
        "\n",
        "create_test(FistTest_SOURCE, TESTING_FIST_DIR)\n",
        "create_test(PalmTest_SOURCE, TESTING_PALM_DIR)"
      ],
      "execution_count": 12,
      "outputs": []
    },
    {
      "cell_type": "code",
      "metadata": {
        "id": "PILPzuGu3MpV",
        "outputId": "50409dca-3e3a-45e6-8abb-cb5effb28e97",
        "colab": {
          "base_uri": "https://localhost:8080/",
          "height": 159
        }
      },
      "source": [
        "print(len(os.listdir(TRAINING_DIR)))\n",
        "print(len(os.listdir(TESTING_DIR)))\n",
        "print(len(os.listdir(TRAINING_FIST_DIR)))\n",
        "print(len(os.listdir(TRAINING_PALM_DIR)))\n",
        "print(len(os.listdir(TESTING_FIST_DIR)))\n",
        "print(len(os.listdir(TESTING_PALM_DIR)))\n",
        "print(len(os.listdir(VALIDATION_PALM_DIR)))\n",
        "print(len(os.listdir(VALIDATION_FIST_DIR)))"
      ],
      "execution_count": 13,
      "outputs": [
        {
          "output_type": "stream",
          "text": [
            "2\n",
            "2\n",
            "900\n",
            "900\n",
            "100\n",
            "100\n",
            "100\n",
            "100\n"
          ],
          "name": "stdout"
        }
      ]
    },
    {
      "cell_type": "code",
      "metadata": {
        "id": "Y0qeGqgW4LjV"
      },
      "source": [
        "model = tf.keras.models.Sequential([\n",
        "    tf.keras.layers.Conv2D(16, (3,3), activation='relu', input_shape=(89, 100, 1)),\n",
        "    tf.keras.layers.MaxPooling2D(2,2),\n",
        "    tf.keras.layers.Dropout(0.2),\n",
        "    tf.keras.layers.Conv2D(32, (3,3), activation='relu'),\n",
        "    tf.keras.layers.MaxPooling2D(2,2),\n",
        "    tf.keras.layers.Dropout(0.2),\n",
        "    tf.keras.layers.Conv2D(64, (3,3), activation='relu'), \n",
        "    tf.keras.layers.MaxPooling2D(2,2),\n",
        "    tf.keras.layers.Dropout(0.2),\n",
        "    tf.keras.layers.Flatten(),\n",
        "    tf.keras.layers.Dense(512, activation='relu'),\n",
        "    tf.keras.layers.Dense(1, activation='sigmoid')                               \n",
        "])\n",
        "\n",
        "model.compile(optimizer=RMSprop(lr=0.01), loss='binary_crossentropy', metrics=['acc'])"
      ],
      "execution_count": 14,
      "outputs": []
    },
    {
      "cell_type": "code",
      "metadata": {
        "id": "QxqFFEbp7EIK",
        "outputId": "a00e9143-ecc1-4887-fb25-f27733ce5d21",
        "colab": {
          "base_uri": "https://localhost:8080/",
          "height": 52
        }
      },
      "source": [
        "train_datagen = ImageDataGenerator( rescale = 1.0/255. )\n",
        "\n",
        "train_generator = train_datagen.flow_from_directory(TRAINING_DIR,\n",
        "                                                    batch_size=128,\n",
        "                                                    class_mode='binary',\n",
        "                                                    color_mode = 'grayscale',\n",
        "                                                    target_size=(89, 100))\n",
        "\n",
        "validation_datagen = ImageDataGenerator( rescale = 1.0/255. )\n",
        "\n",
        "validation_generator = validation_datagen.flow_from_directory(VALIDATION_DIR,\n",
        "                                                         batch_size=128,\n",
        "                                                         class_mode  = 'binary',\n",
        "                                                         color_mode = 'grayscale',\n",
        "                                                         target_size = (89, 100))\n"
      ],
      "execution_count": 15,
      "outputs": [
        {
          "output_type": "stream",
          "text": [
            "Found 1800 images belonging to 2 classes.\n",
            "Found 200 images belonging to 2 classes.\n"
          ],
          "name": "stdout"
        }
      ]
    },
    {
      "cell_type": "code",
      "metadata": {
        "id": "VyN-nHnDB997"
      },
      "source": [
        "my_callback = tf.keras.callbacks.EarlyStopping(monitor='val_loss', patience=3, verbose=1)"
      ],
      "execution_count": 16,
      "outputs": []
    },
    {
      "cell_type": "code",
      "metadata": {
        "id": "1zW9y5rK7v4r",
        "outputId": "48171cb3-6f8e-459b-bfb5-efc77b909c10",
        "colab": {
          "base_uri": "https://localhost:8080/",
          "height": 801
        }
      },
      "source": [
        "history = model.fit_generator(train_generator,\n",
        "                              epochs=30,\n",
        "                              verbose=1,\n",
        "                              callbacks = [my_callback],\n",
        "                              validation_data=validation_generator\n",
        "                              )"
      ],
      "execution_count": 17,
      "outputs": [
        {
          "output_type": "stream",
          "text": [
            "WARNING:tensorflow:From <ipython-input-17-39b901efda31>:5: Model.fit_generator (from tensorflow.python.keras.engine.training) is deprecated and will be removed in a future version.\n",
            "Instructions for updating:\n",
            "Please use Model.fit, which supports generators.\n",
            "Epoch 1/30\n",
            "15/15 [==============================] - 1s 57ms/step - loss: 43.3969 - acc: 0.7783 - val_loss: 0.0464 - val_acc: 0.9900\n",
            "Epoch 2/30\n",
            "15/15 [==============================] - 1s 42ms/step - loss: 0.0070 - acc: 0.9983 - val_loss: 0.0047 - val_acc: 1.0000\n",
            "Epoch 3/30\n",
            "15/15 [==============================] - 1s 41ms/step - loss: 6.8446e-04 - acc: 1.0000 - val_loss: 0.0222 - val_acc: 0.9950\n",
            "Epoch 4/30\n",
            "15/15 [==============================] - 1s 41ms/step - loss: 4.6972e-04 - acc: 1.0000 - val_loss: 6.5606e-04 - val_acc: 1.0000\n",
            "Epoch 5/30\n",
            "15/15 [==============================] - 1s 42ms/step - loss: 4.7919e-05 - acc: 1.0000 - val_loss: 3.5153e-04 - val_acc: 1.0000\n",
            "Epoch 6/30\n",
            "15/15 [==============================] - 1s 42ms/step - loss: 2.2019e-05 - acc: 1.0000 - val_loss: 2.6825e-04 - val_acc: 1.0000\n",
            "Epoch 7/30\n",
            "15/15 [==============================] - 1s 41ms/step - loss: 4.8570e-05 - acc: 1.0000 - val_loss: 1.2210e-04 - val_acc: 1.0000\n",
            "Epoch 8/30\n",
            "15/15 [==============================] - 1s 41ms/step - loss: 7.8765e-06 - acc: 1.0000 - val_loss: 8.7794e-05 - val_acc: 1.0000\n",
            "Epoch 9/30\n",
            "15/15 [==============================] - 1s 40ms/step - loss: 8.5895e-07 - acc: 1.0000 - val_loss: 5.7551e-05 - val_acc: 1.0000\n",
            "Epoch 10/30\n",
            "15/15 [==============================] - 1s 43ms/step - loss: 5.6729e-07 - acc: 1.0000 - val_loss: 3.6846e-05 - val_acc: 1.0000\n",
            "Epoch 11/30\n",
            "15/15 [==============================] - 1s 40ms/step - loss: 1.2718e-06 - acc: 1.0000 - val_loss: 9.9582e-07 - val_acc: 1.0000\n",
            "Epoch 12/30\n",
            "15/15 [==============================] - 1s 41ms/step - loss: 2.2167e-07 - acc: 1.0000 - val_loss: 1.5639e-06 - val_acc: 1.0000\n",
            "Epoch 13/30\n",
            "15/15 [==============================] - 1s 41ms/step - loss: 6.4993e-08 - acc: 1.0000 - val_loss: 3.8794e-07 - val_acc: 1.0000\n",
            "Epoch 14/30\n",
            "15/15 [==============================] - 1s 44ms/step - loss: 4.7371e-08 - acc: 1.0000 - val_loss: 4.2617e-07 - val_acc: 1.0000\n",
            "Epoch 15/30\n",
            "15/15 [==============================] - 1s 41ms/step - loss: 1.3101e-07 - acc: 1.0000 - val_loss: 3.1383e-07 - val_acc: 1.0000\n",
            "Epoch 16/30\n",
            "15/15 [==============================] - 1s 41ms/step - loss: 9.5712e-09 - acc: 1.0000 - val_loss: 1.3413e-07 - val_acc: 1.0000\n",
            "Epoch 17/30\n",
            "15/15 [==============================] - 1s 42ms/step - loss: 1.5599e-09 - acc: 1.0000 - val_loss: 7.9119e-08 - val_acc: 1.0000\n",
            "Epoch 18/30\n",
            "15/15 [==============================] - 1s 41ms/step - loss: 3.0637e-08 - acc: 1.0000 - val_loss: 6.8815e-05 - val_acc: 1.0000\n",
            "Epoch 19/30\n",
            "15/15 [==============================] - 1s 41ms/step - loss: 3.8301 - acc: 0.9261 - val_loss: 2.6645e-04 - val_acc: 1.0000\n",
            "Epoch 20/30\n",
            "15/15 [==============================] - 1s 44ms/step - loss: 5.4965e-04 - acc: 0.9994 - val_loss: 2.4741e-05 - val_acc: 1.0000\n",
            "Epoch 00020: early stopping\n"
          ],
          "name": "stdout"
        }
      ]
    },
    {
      "cell_type": "code",
      "metadata": {
        "id": "Y1fVs4hpBTVc",
        "outputId": "3ed633c2-4f70-4720-b134-932bf25a9af0",
        "colab": {
          "base_uri": "https://localhost:8080/",
          "height": 563
        }
      },
      "source": [
        "%matplotlib inline\n",
        "\n",
        "acc=history.history['acc']\n",
        "val_acc=history.history['val_acc']\n",
        "loss=history.history['loss']\n",
        "val_loss=history.history['val_loss']\n",
        "\n",
        "epochs=range(len(acc)) # Get number of epochs\n",
        "\n",
        "plt.plot(epochs, acc, 'r', \"Training Accuracy\")\n",
        "plt.plot(epochs, val_acc, 'b', \"Validation Accuracy\")\n",
        "plt.title('Training and validation accuracy')\n",
        "plt.figure()\n",
        "\n",
        "plt.plot(epochs, loss, 'r', \"Training Loss\")\n",
        "plt.plot(epochs, val_loss, 'b', \"Validation Loss\")\n",
        "\n",
        "\n",
        "plt.title('Training and validation loss')\n"
      ],
      "execution_count": 18,
      "outputs": [
        {
          "output_type": "execute_result",
          "data": {
            "text/plain": [
              "Text(0.5, 1.0, 'Training and validation loss')"
            ]
          },
          "metadata": {
            "tags": []
          },
          "execution_count": 18
        },
        {
          "output_type": "display_data",
          "data": {
            "image/png": "[encoded data removed]",
            "text/plain": [
              "<Figure size 432x288 with 1 Axes>"
            ]
          },
          "metadata": {
            "tags": [],
            "needs_background": "light"
          }
        },
        {
          "output_type": "display_data",
          "data": {
            "image/png": "[encoded data removed]",
            "text/plain": [
              "<Figure size 432x288 with 1 Axes>"
            ]
          },
          "metadata": {
            "tags": [],
            "needs_background": "light"
          }
        }
      ]
    },
    {
      "cell_type": "code",
      "metadata": {
        "id": "JuLex7Pp5Um4",
        "outputId": "cf2586aa-b715-470e-ca58-2f8795f340fb",
        "colab": {
          "base_uri": "https://localhost:8080/",
          "height": 35
        }
      },
      "source": [
        "test_datagen = ImageDataGenerator( rescale = 1.0/255. )\n",
        "\n",
        "test_generator = test_datagen.flow_from_directory(TESTING_DIR,\n",
        "                                                    batch_size=1,\n",
        "                                                    class_mode='binary',\n",
        "                                                  color_mode = 'grayscale',\n",
        "                                                    target_size=(89, 100))\n",
        "\n",
        "filenames = test_generator.filenames\n",
        "nb_samples = len(filenames)\n",
        "\n",
        "loss, acc = model.evaluate_generator(test_generator, steps=1, verbose=0)"
      ],
      "execution_count": 20,
      "outputs": [
        {
          "output_type": "stream",
          "text": [
            "Found 200 images belonging to 2 classes.\n"
          ],
          "name": "stdout"
        }
      ]
    },
    {
      "cell_type": "code",
      "metadata": {
        "id": "GE8Zr6cN7ZK1",
        "outputId": "babf997c-5663-46ad-9471-a6ee6eb068df",
        "colab": {
          "base_uri": "https://localhost:8080/",
          "height": 52
        }
      },
      "source": [
        "print(loss)\n",
        "print(acc)"
      ],
      "execution_count": 21,
      "outputs": [
        {
          "output_type": "stream",
          "text": [
            "8.093377914519806e-07\n",
            "1.0\n"
          ],
          "name": "stdout"
        }
      ]
    },
    {
      "cell_type": "code",
      "metadata": {
        "id": "t9vlGu4CLJcD"
      },
      "source": [
        "model.save(\"my_model.h5\")"
      ],
      "execution_count": null,
      "outputs": []
    }
  ]
}